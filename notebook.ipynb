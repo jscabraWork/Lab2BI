{
 "cells": [
  {
   "cell_type": "markdown",
   "metadata": {},
   "source": [
    "# 0. Importación de librerías \n",
    "\n",
    "En las siguientes líneas de código se importan las librerías y herramientas necesarias para desarrollar el caso de uso."
   ]
  },
  {
   "cell_type": "code",
   "execution_count": 1,
   "metadata": {},
   "outputs": [],
   "source": [
    "import pandas as pd\n",
    "pd.set_option('display.max_columns', 25) # Número máximo de columnas a mostrar\n",
    "pd.set_option('display.max_rows', 50) # Numero máximo de filas a mostar\n",
    "\n",
    "import numpy as np\n",
    "np.random.seed(3301)\n",
    "\n",
    "import matplotlib.pyplot as plt\n",
    "\n",
    "from sklearn.cluster import KMeans\n",
    "from sklearn.cluster import AgglomerativeClustering\n",
    "from sklearn.cluster import DBSCAN\n",
    "\n",
    "from scipy.cluster.hierarchy import dendrogram\n",
    "from sklearn.metrics import silhouette_score\n",
    "from sklearn.neighbors import NearestNeighbors\n",
    "\n",
    "from sklearn.preprocessing import MinMaxScaler\n",
    "\n",
    "from sklearn.decomposition import PCA"
   ]
  },
  {
   "cell_type": "markdown",
   "metadata": {},
   "source": [
    "# 1. Carga de los datos\n",
    "A través de la librería **pandas** podemos realizar la carga de datos desde diferentes fuentes de información, en este caso se realizará la carga de un archivo plano csv, el separador del archivo es ; y se remplazaron los valores \"-\" por valores nulos."
   ]
  },
  {
   "cell_type": "code",
   "execution_count": 2,
   "metadata": {},
   "outputs": [],
   "source": [
    "# Se cargan los datos. \n",
    "df_banco=pd.read_csv('BancAlpes.csv', sep=',', encoding = 'utf-8', header=0, na_values={\"??\"}, dtype={0:\"string\", 1:\"string\"})"
   ]
  },
  {
   "cell_type": "code",
   "execution_count": 3,
   "metadata": {},
   "outputs": [
    {
     "data": {
      "text/plain": [
       "(5530, 15)"
      ]
     },
     "execution_count": 3,
     "metadata": {},
     "output_type": "execute_result"
    }
   ],
   "source": [
    "# Cantidad de datos y número de variables\n",
    "df_banco.shape"
   ]
  },
  {
   "cell_type": "code",
   "execution_count": 4,
   "metadata": {},
   "outputs": [
    {
     "data": {
      "text/html": [
       "<div>\n",
       "<style scoped>\n",
       "    .dataframe tbody tr th:only-of-type {\n",
       "        vertical-align: middle;\n",
       "    }\n",
       "\n",
       "    .dataframe tbody tr th {\n",
       "        vertical-align: top;\n",
       "    }\n",
       "\n",
       "    .dataframe thead th {\n",
       "        text-align: right;\n",
       "    }\n",
       "</style>\n",
       "<table border=\"1\" class=\"dataframe\">\n",
       "  <thead>\n",
       "    <tr style=\"text-align: right;\">\n",
       "      <th></th>\n",
       "      <th>CUST_ID</th>\n",
       "      <th>GENDER</th>\n",
       "      <th>BALANCE</th>\n",
       "      <th>PURCHASES</th>\n",
       "      <th>BALANCE_FREQUENCY</th>\n",
       "      <th>CASH_ADVANCE</th>\n",
       "      <th>CASH_ADVANCE_TRX</th>\n",
       "      <th>PURCHASES_FREQUENCY</th>\n",
       "      <th>PURCHASES_TRX</th>\n",
       "      <th>ONEOFF_PURCHASES_FREQUENCY</th>\n",
       "      <th>CASH_ADVANCE_FREQUENCY</th>\n",
       "      <th>CREDIT_LIMIT</th>\n",
       "      <th>PAYMENTS</th>\n",
       "      <th>MINIMUM_PAYMENTS</th>\n",
       "      <th>TENURE</th>\n",
       "    </tr>\n",
       "  </thead>\n",
       "  <tbody>\n",
       "    <tr>\n",
       "      <th>0</th>\n",
       "      <td>C12529</td>\n",
       "      <td>F</td>\n",
       "      <td>107.944741</td>\n",
       "      <td>118.16</td>\n",
       "      <td>0.875</td>\n",
       "      <td>472.818286</td>\n",
       "      <td>1.0</td>\n",
       "      <td>0.125000</td>\n",
       "      <td>2</td>\n",
       "      <td>0.125</td>\n",
       "      <td>0.125000</td>\n",
       "      <td>2500.0</td>\n",
       "      <td>192.781455</td>\n",
       "      <td>56.999671</td>\n",
       "      <td>8</td>\n",
       "    </tr>\n",
       "    <tr>\n",
       "      <th>1</th>\n",
       "      <td>C14138</td>\n",
       "      <td>&lt;NA&gt;</td>\n",
       "      <td>241.032979</td>\n",
       "      <td>0.00</td>\n",
       "      <td>1.000</td>\n",
       "      <td>642.862505</td>\n",
       "      <td>1.0</td>\n",
       "      <td>0.000000</td>\n",
       "      <td>0</td>\n",
       "      <td>NaN</td>\n",
       "      <td>0.083333</td>\n",
       "      <td>1500.0</td>\n",
       "      <td>915.454305</td>\n",
       "      <td>195.162256</td>\n",
       "      <td>12</td>\n",
       "    </tr>\n",
       "    <tr>\n",
       "      <th>2</th>\n",
       "      <td>C15409</td>\n",
       "      <td>&lt;NA&gt;</td>\n",
       "      <td>894.357857</td>\n",
       "      <td>1164.00</td>\n",
       "      <td>1.000</td>\n",
       "      <td>0.0</td>\n",
       "      <td>0.0</td>\n",
       "      <td>1.000000</td>\n",
       "      <td>12</td>\n",
       "      <td>NaN</td>\n",
       "      <td>0.000000</td>\n",
       "      <td>2000.0</td>\n",
       "      <td>907.603723</td>\n",
       "      <td>270.413449</td>\n",
       "      <td>-12</td>\n",
       "    </tr>\n",
       "    <tr>\n",
       "      <th>3</th>\n",
       "      <td>C18141</td>\n",
       "      <td>F</td>\n",
       "      <td>-188.132508</td>\n",
       "      <td>515.88</td>\n",
       "      <td>1.000</td>\n",
       "      <td>0.0</td>\n",
       "      <td>NaN</td>\n",
       "      <td>0.833333</td>\n",
       "      <td>14</td>\n",
       "      <td>NaN</td>\n",
       "      <td>0.000000</td>\n",
       "      <td>2700.0</td>\n",
       "      <td>601.729266</td>\n",
       "      <td>194.534934</td>\n",
       "      <td>12</td>\n",
       "    </tr>\n",
       "    <tr>\n",
       "      <th>4</th>\n",
       "      <td>C15879</td>\n",
       "      <td>&lt;NA&gt;</td>\n",
       "      <td>3881.679582</td>\n",
       "      <td>15.92</td>\n",
       "      <td>1.000</td>\n",
       "      <td>2183.782456</td>\n",
       "      <td>9.0</td>\n",
       "      <td>0.083333</td>\n",
       "      <td>1</td>\n",
       "      <td>NaN</td>\n",
       "      <td>0.333333</td>\n",
       "      <td>5500.0</td>\n",
       "      <td>1032.183632</td>\n",
       "      <td>1129.747227</td>\n",
       "      <td>12</td>\n",
       "    </tr>\n",
       "  </tbody>\n",
       "</table>\n",
       "</div>"
      ],
      "text/plain": [
       "  CUST_ID GENDER      BALANCE  PURCHASES  BALANCE_FREQUENCY CASH_ADVANCE  \\\n",
       "0  C12529      F   107.944741     118.16              0.875   472.818286   \n",
       "1  C14138   <NA>   241.032979       0.00              1.000   642.862505   \n",
       "2  C15409   <NA>   894.357857    1164.00              1.000          0.0   \n",
       "3  C18141      F  -188.132508     515.88              1.000          0.0   \n",
       "4  C15879   <NA>  3881.679582      15.92              1.000  2183.782456   \n",
       "\n",
       "   CASH_ADVANCE_TRX  PURCHASES_FREQUENCY PURCHASES_TRX  \\\n",
       "0               1.0             0.125000             2   \n",
       "1               1.0             0.000000             0   \n",
       "2               0.0             1.000000            12   \n",
       "3               NaN             0.833333            14   \n",
       "4               9.0             0.083333             1   \n",
       "\n",
       "   ONEOFF_PURCHASES_FREQUENCY  CASH_ADVANCE_FREQUENCY  CREDIT_LIMIT  \\\n",
       "0                       0.125                0.125000        2500.0   \n",
       "1                         NaN                0.083333        1500.0   \n",
       "2                         NaN                0.000000        2000.0   \n",
       "3                         NaN                0.000000        2700.0   \n",
       "4                         NaN                0.333333        5500.0   \n",
       "\n",
       "      PAYMENTS MINIMUM_PAYMENTS TENURE  \n",
       "0   192.781455        56.999671      8  \n",
       "1   915.454305       195.162256     12  \n",
       "2   907.603723       270.413449    -12  \n",
       "3   601.729266       194.534934     12  \n",
       "4  1032.183632      1129.747227     12  "
      ]
     },
     "execution_count": 4,
     "metadata": {},
     "output_type": "execute_result"
    }
   ],
   "source": [
    "# Mostrar los datos\n",
    "df_banco.head()"
   ]
  },
  {
   "cell_type": "code",
   "execution_count": 5,
   "metadata": {},
   "outputs": [
    {
     "data": {
      "text/plain": [
       "CUST_ID                        string\n",
       "GENDER                         string\n",
       "BALANCE                       float64\n",
       "PURCHASES                     float64\n",
       "BALANCE_FREQUENCY             float64\n",
       "CASH_ADVANCE                   object\n",
       "CASH_ADVANCE_TRX              float64\n",
       "PURCHASES_FREQUENCY           float64\n",
       "PURCHASES_TRX                  object\n",
       "ONEOFF_PURCHASES_FREQUENCY    float64\n",
       "CASH_ADVANCE_FREQUENCY        float64\n",
       "CREDIT_LIMIT                  float64\n",
       "PAYMENTS                      float64\n",
       "MINIMUM_PAYMENTS               object\n",
       "TENURE                         object\n",
       "dtype: object"
      ]
     },
     "execution_count": 5,
     "metadata": {},
     "output_type": "execute_result"
    }
   ],
   "source": [
    "# Podemos ver los tipos de todas la variables.\n",
    "df_banco.dtypes"
   ]
  },
  {
   "cell_type": "code",
   "execution_count": 6,
   "metadata": {},
   "outputs": [
    {
     "data": {
      "text/plain": [
       "CUST_ID                          0\n",
       "GENDER                        2714\n",
       "BALANCE                          0\n",
       "PURCHASES                        0\n",
       "BALANCE_FREQUENCY                0\n",
       "CASH_ADVANCE                    75\n",
       "CASH_ADVANCE_TRX               150\n",
       "PURCHASES_FREQUENCY              0\n",
       "PURCHASES_TRX                   65\n",
       "ONEOFF_PURCHASES_FREQUENCY    2740\n",
       "CASH_ADVANCE_FREQUENCY         166\n",
       "CREDIT_LIMIT                     0\n",
       "PAYMENTS                         0\n",
       "MINIMUM_PAYMENTS                89\n",
       "TENURE                         232\n",
       "dtype: int64"
      ]
     },
     "execution_count": 6,
     "metadata": {},
     "output_type": "execute_result"
    }
   ],
   "source": [
    "# Se observa que hay ausencias y luego posteriormente cuandos se reliza la eliminiación de datos no numericos en las variables se encuentra que se puede realizar puesto que la diferencia no es significativa\n",
    "df_banco.isnull().sum()"
   ]
  },
  {
   "cell_type": "code",
   "execution_count": 7,
   "metadata": {},
   "outputs": [],
   "source": [
    "# Vamos a cambiar el tipo de dato de la variable CASH_ADVANCED, PURCHASES_TRX,MINIMUM_PAYMENTS y TENURE para eliminar todos los valores que no sean numericos.\n",
    "df_banco['CASH_ADVANCE'] = df_banco['CASH_ADVANCE'].apply(pd.to_numeric, errors='coerce')\n",
    "df_banco['PURCHASES_TRX'] = df_banco['PURCHASES_TRX'].apply(pd.to_numeric, errors='coerce')\n",
    "df_banco['MINIMUM_PAYMENTS'] = df_banco['MINIMUM_PAYMENTS'].apply(pd.to_numeric, errors='coerce')\n",
    "df_banco['TENURE'] = df_banco['TENURE'].apply(pd.to_numeric, errors='coerce')"
   ]
  },
  {
   "cell_type": "code",
   "execution_count": 8,
   "metadata": {},
   "outputs": [
    {
     "data": {
      "text/plain": [
       "CUST_ID                        string\n",
       "GENDER                         string\n",
       "BALANCE                       float64\n",
       "PURCHASES                     float64\n",
       "BALANCE_FREQUENCY             float64\n",
       "CASH_ADVANCE                  float64\n",
       "CASH_ADVANCE_TRX              float64\n",
       "PURCHASES_FREQUENCY           float64\n",
       "PURCHASES_TRX                 float64\n",
       "ONEOFF_PURCHASES_FREQUENCY    float64\n",
       "CASH_ADVANCE_FREQUENCY        float64\n",
       "CREDIT_LIMIT                  float64\n",
       "PAYMENTS                      float64\n",
       "MINIMUM_PAYMENTS              float64\n",
       "TENURE                        float64\n",
       "dtype: object"
      ]
     },
     "execution_count": 8,
     "metadata": {},
     "output_type": "execute_result"
    }
   ],
   "source": [
    "# Podemos ver los tipos de todas la variables.\n",
    "df_banco.dtypes"
   ]
  },
  {
   "cell_type": "code",
   "execution_count": 9,
   "metadata": {},
   "outputs": [
    {
     "data": {
      "text/plain": [
       "CUST_ID                          0\n",
       "GENDER                        2714\n",
       "BALANCE                          0\n",
       "PURCHASES                        0\n",
       "BALANCE_FREQUENCY                0\n",
       "CASH_ADVANCE                   159\n",
       "CASH_ADVANCE_TRX               150\n",
       "PURCHASES_FREQUENCY              0\n",
       "PURCHASES_TRX                  147\n",
       "ONEOFF_PURCHASES_FREQUENCY    2740\n",
       "CASH_ADVANCE_FREQUENCY         166\n",
       "CREDIT_LIMIT                     0\n",
       "PAYMENTS                         0\n",
       "MINIMUM_PAYMENTS               167\n",
       "TENURE                         296\n",
       "dtype: int64"
      ]
     },
     "execution_count": 9,
     "metadata": {},
     "output_type": "execute_result"
    }
   ],
   "source": [
    "# Se observa que hay ausencias sin embargo en los datos eliminados no numericos no son significativos la diferencia\n",
    "df_banco.isnull().sum()"
   ]
  },
  {
   "cell_type": "code",
   "execution_count": 10,
   "metadata": {},
   "outputs": [
    {
     "data": {
      "text/html": [
       "<div>\n",
       "<style scoped>\n",
       "    .dataframe tbody tr th:only-of-type {\n",
       "        vertical-align: middle;\n",
       "    }\n",
       "\n",
       "    .dataframe tbody tr th {\n",
       "        vertical-align: top;\n",
       "    }\n",
       "\n",
       "    .dataframe thead th {\n",
       "        text-align: right;\n",
       "    }\n",
       "</style>\n",
       "<table border=\"1\" class=\"dataframe\">\n",
       "  <thead>\n",
       "    <tr style=\"text-align: right;\">\n",
       "      <th></th>\n",
       "      <th>CUST_ID</th>\n",
       "      <th>GENDER</th>\n",
       "      <th>BALANCE</th>\n",
       "      <th>PURCHASES</th>\n",
       "      <th>BALANCE_FREQUENCY</th>\n",
       "      <th>CASH_ADVANCE</th>\n",
       "      <th>CASH_ADVANCE_TRX</th>\n",
       "      <th>PURCHASES_FREQUENCY</th>\n",
       "      <th>PURCHASES_TRX</th>\n",
       "      <th>ONEOFF_PURCHASES_FREQUENCY</th>\n",
       "      <th>CASH_ADVANCE_FREQUENCY</th>\n",
       "      <th>CREDIT_LIMIT</th>\n",
       "      <th>PAYMENTS</th>\n",
       "      <th>MINIMUM_PAYMENTS</th>\n",
       "      <th>TENURE</th>\n",
       "    </tr>\n",
       "  </thead>\n",
       "  <tbody>\n",
       "    <tr>\n",
       "      <th>0</th>\n",
       "      <td>C12529</td>\n",
       "      <td>F</td>\n",
       "      <td>107.944741</td>\n",
       "      <td>118.16</td>\n",
       "      <td>0.875</td>\n",
       "      <td>472.818286</td>\n",
       "      <td>1.0</td>\n",
       "      <td>0.125000</td>\n",
       "      <td>2.0</td>\n",
       "      <td>0.125</td>\n",
       "      <td>0.125000</td>\n",
       "      <td>2500.0</td>\n",
       "      <td>192.781455</td>\n",
       "      <td>56.999671</td>\n",
       "      <td>8.0</td>\n",
       "    </tr>\n",
       "    <tr>\n",
       "      <th>1</th>\n",
       "      <td>C14138</td>\n",
       "      <td>&lt;NA&gt;</td>\n",
       "      <td>241.032979</td>\n",
       "      <td>0.00</td>\n",
       "      <td>1.000</td>\n",
       "      <td>642.862505</td>\n",
       "      <td>1.0</td>\n",
       "      <td>0.000000</td>\n",
       "      <td>0.0</td>\n",
       "      <td>NaN</td>\n",
       "      <td>0.083333</td>\n",
       "      <td>1500.0</td>\n",
       "      <td>915.454305</td>\n",
       "      <td>195.162256</td>\n",
       "      <td>12.0</td>\n",
       "    </tr>\n",
       "    <tr>\n",
       "      <th>2</th>\n",
       "      <td>C15409</td>\n",
       "      <td>&lt;NA&gt;</td>\n",
       "      <td>894.357857</td>\n",
       "      <td>1164.00</td>\n",
       "      <td>1.000</td>\n",
       "      <td>0.000000</td>\n",
       "      <td>0.0</td>\n",
       "      <td>1.000000</td>\n",
       "      <td>12.0</td>\n",
       "      <td>NaN</td>\n",
       "      <td>0.000000</td>\n",
       "      <td>2000.0</td>\n",
       "      <td>907.603723</td>\n",
       "      <td>270.413449</td>\n",
       "      <td>-12.0</td>\n",
       "    </tr>\n",
       "    <tr>\n",
       "      <th>3</th>\n",
       "      <td>C18141</td>\n",
       "      <td>F</td>\n",
       "      <td>-188.132508</td>\n",
       "      <td>515.88</td>\n",
       "      <td>1.000</td>\n",
       "      <td>0.000000</td>\n",
       "      <td>NaN</td>\n",
       "      <td>0.833333</td>\n",
       "      <td>14.0</td>\n",
       "      <td>NaN</td>\n",
       "      <td>0.000000</td>\n",
       "      <td>2700.0</td>\n",
       "      <td>601.729266</td>\n",
       "      <td>194.534934</td>\n",
       "      <td>12.0</td>\n",
       "    </tr>\n",
       "    <tr>\n",
       "      <th>4</th>\n",
       "      <td>C15879</td>\n",
       "      <td>&lt;NA&gt;</td>\n",
       "      <td>3881.679582</td>\n",
       "      <td>15.92</td>\n",
       "      <td>1.000</td>\n",
       "      <td>2183.782456</td>\n",
       "      <td>9.0</td>\n",
       "      <td>0.083333</td>\n",
       "      <td>1.0</td>\n",
       "      <td>NaN</td>\n",
       "      <td>0.333333</td>\n",
       "      <td>5500.0</td>\n",
       "      <td>1032.183632</td>\n",
       "      <td>1129.747227</td>\n",
       "      <td>12.0</td>\n",
       "    </tr>\n",
       "  </tbody>\n",
       "</table>\n",
       "</div>"
      ],
      "text/plain": [
       "  CUST_ID GENDER      BALANCE  PURCHASES  BALANCE_FREQUENCY  CASH_ADVANCE  \\\n",
       "0  C12529      F   107.944741     118.16              0.875    472.818286   \n",
       "1  C14138   <NA>   241.032979       0.00              1.000    642.862505   \n",
       "2  C15409   <NA>   894.357857    1164.00              1.000      0.000000   \n",
       "3  C18141      F  -188.132508     515.88              1.000      0.000000   \n",
       "4  C15879   <NA>  3881.679582      15.92              1.000   2183.782456   \n",
       "\n",
       "   CASH_ADVANCE_TRX  PURCHASES_FREQUENCY  PURCHASES_TRX  \\\n",
       "0               1.0             0.125000            2.0   \n",
       "1               1.0             0.000000            0.0   \n",
       "2               0.0             1.000000           12.0   \n",
       "3               NaN             0.833333           14.0   \n",
       "4               9.0             0.083333            1.0   \n",
       "\n",
       "   ONEOFF_PURCHASES_FREQUENCY  CASH_ADVANCE_FREQUENCY  CREDIT_LIMIT  \\\n",
       "0                       0.125                0.125000        2500.0   \n",
       "1                         NaN                0.083333        1500.0   \n",
       "2                         NaN                0.000000        2000.0   \n",
       "3                         NaN                0.000000        2700.0   \n",
       "4                         NaN                0.333333        5500.0   \n",
       "\n",
       "      PAYMENTS  MINIMUM_PAYMENTS  TENURE  \n",
       "0   192.781455         56.999671     8.0  \n",
       "1   915.454305        195.162256    12.0  \n",
       "2   907.603723        270.413449   -12.0  \n",
       "3   601.729266        194.534934    12.0  \n",
       "4  1032.183632       1129.747227    12.0  "
      ]
     },
     "execution_count": 10,
     "metadata": {},
     "output_type": "execute_result"
    }
   ],
   "source": [
    "# Mostrar los datos\n",
    "df_banco.head()"
   ]
  },
  {
   "cell_type": "code",
   "execution_count": 11,
   "metadata": {},
   "outputs": [
    {
     "data": {
      "text/html": [
       "<div>\n",
       "<style scoped>\n",
       "    .dataframe tbody tr th:only-of-type {\n",
       "        vertical-align: middle;\n",
       "    }\n",
       "\n",
       "    .dataframe tbody tr th {\n",
       "        vertical-align: top;\n",
       "    }\n",
       "\n",
       "    .dataframe thead th {\n",
       "        text-align: right;\n",
       "    }\n",
       "</style>\n",
       "<table border=\"1\" class=\"dataframe\">\n",
       "  <thead>\n",
       "    <tr style=\"text-align: right;\">\n",
       "      <th></th>\n",
       "      <th>BALANCE</th>\n",
       "      <th>PURCHASES</th>\n",
       "      <th>BALANCE_FREQUENCY</th>\n",
       "      <th>CASH_ADVANCE</th>\n",
       "      <th>CASH_ADVANCE_TRX</th>\n",
       "      <th>PURCHASES_FREQUENCY</th>\n",
       "      <th>PURCHASES_TRX</th>\n",
       "      <th>ONEOFF_PURCHASES_FREQUENCY</th>\n",
       "      <th>CASH_ADVANCE_FREQUENCY</th>\n",
       "      <th>CREDIT_LIMIT</th>\n",
       "      <th>PAYMENTS</th>\n",
       "      <th>MINIMUM_PAYMENTS</th>\n",
       "      <th>TENURE</th>\n",
       "    </tr>\n",
       "  </thead>\n",
       "  <tbody>\n",
       "    <tr>\n",
       "      <th>count</th>\n",
       "      <td>5530.000000</td>\n",
       "      <td>5530.000000</td>\n",
       "      <td>5530.000000</td>\n",
       "      <td>5371.000000</td>\n",
       "      <td>5380.000000</td>\n",
       "      <td>5530.000000</td>\n",
       "      <td>5383.000000</td>\n",
       "      <td>2790.000000</td>\n",
       "      <td>5364.000000</td>\n",
       "      <td>5530.000000</td>\n",
       "      <td>5530.000000</td>\n",
       "      <td>5363.000000</td>\n",
       "      <td>5234.00000</td>\n",
       "    </tr>\n",
       "    <tr>\n",
       "      <th>mean</th>\n",
       "      <td>1041.700463</td>\n",
       "      <td>534.577103</td>\n",
       "      <td>26.482552</td>\n",
       "      <td>665.618739</td>\n",
       "      <td>49.115428</td>\n",
       "      <td>12.206006</td>\n",
       "      <td>200.414453</td>\n",
       "      <td>0.148298</td>\n",
       "      <td>0.119005</td>\n",
       "      <td>3588.095256</td>\n",
       "      <td>1107.989817</td>\n",
       "      <td>426.652077</td>\n",
       "      <td>10.80684</td>\n",
       "    </tr>\n",
       "    <tr>\n",
       "      <th>std</th>\n",
       "      <td>1353.093044</td>\n",
       "      <td>773.488745</td>\n",
       "      <td>152.899316</td>\n",
       "      <td>1166.074038</td>\n",
       "      <td>573.817771</td>\n",
       "      <td>93.757671</td>\n",
       "      <td>1633.642802</td>\n",
       "      <td>0.241687</td>\n",
       "      <td>0.173206</td>\n",
       "      <td>2640.396238</td>\n",
       "      <td>1270.892564</td>\n",
       "      <td>408.708631</td>\n",
       "      <td>4.06891</td>\n",
       "    </tr>\n",
       "    <tr>\n",
       "      <th>min</th>\n",
       "      <td>-4587.892398</td>\n",
       "      <td>0.000000</td>\n",
       "      <td>0.000000</td>\n",
       "      <td>0.000000</td>\n",
       "      <td>0.000000</td>\n",
       "      <td>0.000000</td>\n",
       "      <td>0.000000</td>\n",
       "      <td>0.000000</td>\n",
       "      <td>0.000000</td>\n",
       "      <td>50.000000</td>\n",
       "      <td>0.056466</td>\n",
       "      <td>0.019163</td>\n",
       "      <td>-12.00000</td>\n",
       "    </tr>\n",
       "    <tr>\n",
       "      <th>25%</th>\n",
       "      <td>74.060304</td>\n",
       "      <td>0.000000</td>\n",
       "      <td>0.833333</td>\n",
       "      <td>0.000000</td>\n",
       "      <td>0.000000</td>\n",
       "      <td>0.000000</td>\n",
       "      <td>0.000000</td>\n",
       "      <td>0.000000</td>\n",
       "      <td>0.000000</td>\n",
       "      <td>1500.000000</td>\n",
       "      <td>345.431102</td>\n",
       "      <td>156.061179</td>\n",
       "      <td>12.00000</td>\n",
       "    </tr>\n",
       "    <tr>\n",
       "      <th>50%</th>\n",
       "      <td>632.743634</td>\n",
       "      <td>269.130000</td>\n",
       "      <td>1.000000</td>\n",
       "      <td>0.000000</td>\n",
       "      <td>0.000000</td>\n",
       "      <td>0.363636</td>\n",
       "      <td>6.000000</td>\n",
       "      <td>0.000000</td>\n",
       "      <td>0.000000</td>\n",
       "      <td>2900.000000</td>\n",
       "      <td>671.001700</td>\n",
       "      <td>250.871811</td>\n",
       "      <td>12.00000</td>\n",
       "    </tr>\n",
       "    <tr>\n",
       "      <th>75%</th>\n",
       "      <td>1545.808455</td>\n",
       "      <td>723.700000</td>\n",
       "      <td>1.000000</td>\n",
       "      <td>934.381117</td>\n",
       "      <td>3.000000</td>\n",
       "      <td>0.833333</td>\n",
       "      <td>12.000000</td>\n",
       "      <td>0.166667</td>\n",
       "      <td>0.166667</td>\n",
       "      <td>5000.000000</td>\n",
       "      <td>1354.931507</td>\n",
       "      <td>577.575834</td>\n",
       "      <td>12.00000</td>\n",
       "    </tr>\n",
       "    <tr>\n",
       "      <th>max</th>\n",
       "      <td>7390.198560</td>\n",
       "      <td>9661.370000</td>\n",
       "      <td>1000.000000</td>\n",
       "      <td>6448.247202</td>\n",
       "      <td>18000.000000</td>\n",
       "      <td>1000.000000</td>\n",
       "      <td>26000.000000</td>\n",
       "      <td>1.000000</td>\n",
       "      <td>1.500000</td>\n",
       "      <td>12500.000000</td>\n",
       "      <td>9933.622610</td>\n",
       "      <td>1998.400995</td>\n",
       "      <td>12.00000</td>\n",
       "    </tr>\n",
       "  </tbody>\n",
       "</table>\n",
       "</div>"
      ],
      "text/plain": [
       "           BALANCE    PURCHASES  BALANCE_FREQUENCY  CASH_ADVANCE  \\\n",
       "count  5530.000000  5530.000000        5530.000000   5371.000000   \n",
       "mean   1041.700463   534.577103          26.482552    665.618739   \n",
       "std    1353.093044   773.488745         152.899316   1166.074038   \n",
       "min   -4587.892398     0.000000           0.000000      0.000000   \n",
       "25%      74.060304     0.000000           0.833333      0.000000   \n",
       "50%     632.743634   269.130000           1.000000      0.000000   \n",
       "75%    1545.808455   723.700000           1.000000    934.381117   \n",
       "max    7390.198560  9661.370000        1000.000000   6448.247202   \n",
       "\n",
       "       CASH_ADVANCE_TRX  PURCHASES_FREQUENCY  PURCHASES_TRX  \\\n",
       "count       5380.000000          5530.000000    5383.000000   \n",
       "mean          49.115428            12.206006     200.414453   \n",
       "std          573.817771            93.757671    1633.642802   \n",
       "min            0.000000             0.000000       0.000000   \n",
       "25%            0.000000             0.000000       0.000000   \n",
       "50%            0.000000             0.363636       6.000000   \n",
       "75%            3.000000             0.833333      12.000000   \n",
       "max        18000.000000          1000.000000   26000.000000   \n",
       "\n",
       "       ONEOFF_PURCHASES_FREQUENCY  CASH_ADVANCE_FREQUENCY  CREDIT_LIMIT  \\\n",
       "count                 2790.000000             5364.000000   5530.000000   \n",
       "mean                     0.148298                0.119005   3588.095256   \n",
       "std                      0.241687                0.173206   2640.396238   \n",
       "min                      0.000000                0.000000     50.000000   \n",
       "25%                      0.000000                0.000000   1500.000000   \n",
       "50%                      0.000000                0.000000   2900.000000   \n",
       "75%                      0.166667                0.166667   5000.000000   \n",
       "max                      1.000000                1.500000  12500.000000   \n",
       "\n",
       "          PAYMENTS  MINIMUM_PAYMENTS      TENURE  \n",
       "count  5530.000000       5363.000000  5234.00000  \n",
       "mean   1107.989817        426.652077    10.80684  \n",
       "std    1270.892564        408.708631     4.06891  \n",
       "min       0.056466          0.019163   -12.00000  \n",
       "25%     345.431102        156.061179    12.00000  \n",
       "50%     671.001700        250.871811    12.00000  \n",
       "75%    1354.931507        577.575834    12.00000  \n",
       "max    9933.622610       1998.400995    12.00000  "
      ]
     },
     "execution_count": 11,
     "metadata": {},
     "output_type": "execute_result"
    }
   ],
   "source": [
    "# Y hacer una decsripción de los datos\n",
    "df_banco.describe()"
   ]
  },
  {
   "cell_type": "markdown",
   "metadata": {},
   "source": [
    "# 2. Limpieza y preparación de los datos\n",
    "\n",
    "Primero vamos a ejecutar los pasos de limpieza de los datos, relacionados el tratamiento de ausencias y registros duplicados."
   ]
  },
  {
   "cell_type": "code",
   "execution_count": 12,
   "metadata": {},
   "outputs": [],
   "source": [
    "# Es recomendable que todos los pasos de limpieza y preparación se realicen sobre otro archivo.\n",
    "df_banco_t = df_banco"
   ]
  },
  {
   "cell_type": "code",
   "execution_count": 13,
   "metadata": {},
   "outputs": [
    {
     "data": {
      "text/plain": [
       "CUST_ID                          0\n",
       "GENDER                        2714\n",
       "BALANCE                          0\n",
       "PURCHASES                        0\n",
       "BALANCE_FREQUENCY                0\n",
       "CASH_ADVANCE                   159\n",
       "CASH_ADVANCE_TRX               150\n",
       "PURCHASES_FREQUENCY              0\n",
       "PURCHASES_TRX                  147\n",
       "ONEOFF_PURCHASES_FREQUENCY    2740\n",
       "CASH_ADVANCE_FREQUENCY         166\n",
       "CREDIT_LIMIT                     0\n",
       "PAYMENTS                         0\n",
       "MINIMUM_PAYMENTS               167\n",
       "TENURE                         296\n",
       "dtype: int64"
      ]
     },
     "execution_count": 13,
     "metadata": {},
     "output_type": "execute_result"
    }
   ],
   "source": [
    "# Se observa que hay ausencias, hay una gran cantidad de datos numeros en el GENDER y en ONEOFF_PURCHARSE_FREQUENCY, dandonos cuenta que son más de la mitad de los datos\n",
    "df_banco_t.isnull().sum()"
   ]
  },
  {
   "cell_type": "code",
   "execution_count": 14,
   "metadata": {},
   "outputs": [],
   "source": [
    "# Por lo anterior mencionado se tomo la desición de eliminar estas dos columnas para poder eliminar los datos repetidos y duplicados en las otras columnas\n",
    "#Además borramos el V\n",
    "df_banco_t=df_banco_t.drop(['GENDER','ONEOFF_PURCHASES_FREQUENCY','CUST_ID'],axis=1) "
   ]
  },
  {
   "cell_type": "code",
   "execution_count": 15,
   "metadata": {},
   "outputs": [
    {
     "data": {
      "text/plain": [
       "CUST_ID                     0\n",
       "BALANCE                     0\n",
       "PURCHASES                   0\n",
       "BALANCE_FREQUENCY           0\n",
       "CASH_ADVANCE              159\n",
       "CASH_ADVANCE_TRX          150\n",
       "PURCHASES_FREQUENCY         0\n",
       "PURCHASES_TRX             147\n",
       "CASH_ADVANCE_FREQUENCY    166\n",
       "CREDIT_LIMIT                0\n",
       "PAYMENTS                    0\n",
       "MINIMUM_PAYMENTS          167\n",
       "TENURE                    296\n",
       "dtype: int64"
      ]
     },
     "execution_count": 15,
     "metadata": {},
     "output_type": "execute_result"
    }
   ],
   "source": [
    "df_banco_t.isnull().sum()"
   ]
  },
  {
   "cell_type": "code",
   "execution_count": 16,
   "metadata": {},
   "outputs": [],
   "source": [
    "# Eliminación registros con ausencias\n",
    "df_banco_t = df_banco_t.dropna()\n",
    "# Eliminación de registros duplicados.\n",
    "df_banco_t = df_banco_t.drop_duplicates()"
   ]
  },
  {
   "cell_type": "code",
   "execution_count": 17,
   "metadata": {},
   "outputs": [
    {
     "data": {
      "text/plain": [
       "(4537, 13)"
      ]
     },
     "execution_count": 17,
     "metadata": {},
     "output_type": "execute_result"
    }
   ],
   "source": [
    "# Cantidad de datos y número de variables\n",
    "df_banco_t.shape"
   ]
  },
  {
   "cell_type": "code",
   "execution_count": 18,
   "metadata": {},
   "outputs": [],
   "source": [
    "## Se siguen las reglas del diccionario\n",
    "df_banco_t = df_banco_t[df_banco_t[\"BALANCE\"].between(0, 5000)]\n",
    "df_banco_t = df_banco_t[df_banco_t[\"PURCHASES\"].between(0, 15000)]\n",
    "df_banco_t = df_banco_t[df_banco_t[\"CASH_ADVANCE\"].between(0, 5000)]\n",
    "df_banco_t = df_banco_t[df_banco_t[\"CASH_ADVANCE_TRX\"].between(0, 15)]\n",
    "df_banco_t = df_banco_t[df_banco_t[\"PURCHASES_TRX\"].between(0, 30)]\n",
    "df_banco_t = df_banco_t[df_banco_t[\"CREDIT_LIMIT\"].between(0, 10000)]\n",
    "df_banco_t = df_banco_t[df_banco_t[\"PAYMENTS\"].between(0, 10000)]\n",
    "df_banco_t = df_banco_t[df_banco_t[\"MINIMUM_PAYMENTS\"].between(0, 1200)]\n",
    "df_banco_t = df_banco_t[df_banco_t[\"TENURE\"].between(1, 12)]"
   ]
  },
  {
   "cell_type": "code",
   "execution_count": 19,
   "metadata": {},
   "outputs": [
    {
     "data": {
      "text/plain": [
       "(3675, 13)"
      ]
     },
     "execution_count": 19,
     "metadata": {},
     "output_type": "execute_result"
    }
   ],
   "source": [
    "# Cantidad de datos y número de variables\n",
    "df_banco_t.shape"
   ]
  },
  {
   "cell_type": "code",
   "execution_count": 21,
   "metadata": {},
   "outputs": [
    {
     "data": {
      "text/html": [
       "<div>\n",
       "<style scoped>\n",
       "    .dataframe tbody tr th:only-of-type {\n",
       "        vertical-align: middle;\n",
       "    }\n",
       "\n",
       "    .dataframe tbody tr th {\n",
       "        vertical-align: top;\n",
       "    }\n",
       "\n",
       "    .dataframe thead th {\n",
       "        text-align: right;\n",
       "    }\n",
       "</style>\n",
       "<table border=\"1\" class=\"dataframe\">\n",
       "  <thead>\n",
       "    <tr style=\"text-align: right;\">\n",
       "      <th></th>\n",
       "      <th>BALANCE</th>\n",
       "      <th>PURCHASES</th>\n",
       "      <th>BALANCE_FREQUENCY</th>\n",
       "      <th>CASH_ADVANCE</th>\n",
       "      <th>CASH_ADVANCE_TRX</th>\n",
       "      <th>PURCHASES_FREQUENCY</th>\n",
       "      <th>PURCHASES_TRX</th>\n",
       "      <th>CASH_ADVANCE_FREQUENCY</th>\n",
       "      <th>CREDIT_LIMIT</th>\n",
       "      <th>PAYMENTS</th>\n",
       "      <th>MINIMUM_PAYMENTS</th>\n",
       "      <th>TENURE</th>\n",
       "    </tr>\n",
       "  </thead>\n",
       "  <tbody>\n",
       "    <tr>\n",
       "      <th>count</th>\n",
       "      <td>3675.000000</td>\n",
       "      <td>3675.000000</td>\n",
       "      <td>3675.000000</td>\n",
       "      <td>3675.000000</td>\n",
       "      <td>3675.000000</td>\n",
       "      <td>3675.000000</td>\n",
       "      <td>3675.000000</td>\n",
       "      <td>3675.000000</td>\n",
       "      <td>3675.000000</td>\n",
       "      <td>3675.000000</td>\n",
       "      <td>3675.000000</td>\n",
       "      <td>3675.00000</td>\n",
       "    </tr>\n",
       "    <tr>\n",
       "      <th>mean</th>\n",
       "      <td>847.341146</td>\n",
       "      <td>526.017211</td>\n",
       "      <td>26.376416</td>\n",
       "      <td>511.508232</td>\n",
       "      <td>1.821224</td>\n",
       "      <td>13.391777</td>\n",
       "      <td>7.588299</td>\n",
       "      <td>0.099313</td>\n",
       "      <td>3254.616808</td>\n",
       "      <td>1012.370935</td>\n",
       "      <td>332.174438</td>\n",
       "      <td>11.43619</td>\n",
       "    </tr>\n",
       "    <tr>\n",
       "      <th>std</th>\n",
       "      <td>938.796767</td>\n",
       "      <td>758.201505</td>\n",
       "      <td>152.672085</td>\n",
       "      <td>924.527406</td>\n",
       "      <td>3.013197</td>\n",
       "      <td>98.904201</td>\n",
       "      <td>7.870898</td>\n",
       "      <td>0.150642</td>\n",
       "      <td>2282.505107</td>\n",
       "      <td>1167.371047</td>\n",
       "      <td>269.657030</td>\n",
       "      <td>1.44955</td>\n",
       "    </tr>\n",
       "    <tr>\n",
       "      <th>min</th>\n",
       "      <td>0.000000</td>\n",
       "      <td>0.000000</td>\n",
       "      <td>0.000000</td>\n",
       "      <td>0.000000</td>\n",
       "      <td>0.000000</td>\n",
       "      <td>0.000000</td>\n",
       "      <td>0.000000</td>\n",
       "      <td>0.000000</td>\n",
       "      <td>150.000000</td>\n",
       "      <td>0.056466</td>\n",
       "      <td>0.019163</td>\n",
       "      <td>6.00000</td>\n",
       "    </tr>\n",
       "    <tr>\n",
       "      <th>25%</th>\n",
       "      <td>71.931534</td>\n",
       "      <td>15.200000</td>\n",
       "      <td>0.818182</td>\n",
       "      <td>0.000000</td>\n",
       "      <td>0.000000</td>\n",
       "      <td>0.083333</td>\n",
       "      <td>1.000000</td>\n",
       "      <td>0.000000</td>\n",
       "      <td>1500.000000</td>\n",
       "      <td>315.497335</td>\n",
       "      <td>149.297730</td>\n",
       "      <td>12.00000</td>\n",
       "    </tr>\n",
       "    <tr>\n",
       "      <th>50%</th>\n",
       "      <td>504.248851</td>\n",
       "      <td>270.000000</td>\n",
       "      <td>1.000000</td>\n",
       "      <td>0.000000</td>\n",
       "      <td>0.000000</td>\n",
       "      <td>0.416667</td>\n",
       "      <td>6.000000</td>\n",
       "      <td>0.000000</td>\n",
       "      <td>2500.000000</td>\n",
       "      <td>597.906134</td>\n",
       "      <td>215.215582</td>\n",
       "      <td>12.00000</td>\n",
       "    </tr>\n",
       "    <tr>\n",
       "      <th>75%</th>\n",
       "      <td>1318.239147</td>\n",
       "      <td>712.685000</td>\n",
       "      <td>1.000000</td>\n",
       "      <td>708.919282</td>\n",
       "      <td>3.000000</td>\n",
       "      <td>0.833333</td>\n",
       "      <td>12.000000</td>\n",
       "      <td>0.166667</td>\n",
       "      <td>4500.000000</td>\n",
       "      <td>1223.417940</td>\n",
       "      <td>464.462323</td>\n",
       "      <td>12.00000</td>\n",
       "    </tr>\n",
       "    <tr>\n",
       "      <th>max</th>\n",
       "      <td>4732.373540</td>\n",
       "      <td>9661.370000</td>\n",
       "      <td>1000.000000</td>\n",
       "      <td>4961.005282</td>\n",
       "      <td>15.000000</td>\n",
       "      <td>1000.000000</td>\n",
       "      <td>30.000000</td>\n",
       "      <td>1.000000</td>\n",
       "      <td>10000.000000</td>\n",
       "      <td>9724.871142</td>\n",
       "      <td>1196.937133</td>\n",
       "      <td>12.00000</td>\n",
       "    </tr>\n",
       "  </tbody>\n",
       "</table>\n",
       "</div>"
      ],
      "text/plain": [
       "           BALANCE    PURCHASES  BALANCE_FREQUENCY  CASH_ADVANCE  \\\n",
       "count  3675.000000  3675.000000        3675.000000   3675.000000   \n",
       "mean    847.341146   526.017211          26.376416    511.508232   \n",
       "std     938.796767   758.201505         152.672085    924.527406   \n",
       "min       0.000000     0.000000           0.000000      0.000000   \n",
       "25%      71.931534    15.200000           0.818182      0.000000   \n",
       "50%     504.248851   270.000000           1.000000      0.000000   \n",
       "75%    1318.239147   712.685000           1.000000    708.919282   \n",
       "max    4732.373540  9661.370000        1000.000000   4961.005282   \n",
       "\n",
       "       CASH_ADVANCE_TRX  PURCHASES_FREQUENCY  PURCHASES_TRX  \\\n",
       "count       3675.000000          3675.000000    3675.000000   \n",
       "mean           1.821224            13.391777       7.588299   \n",
       "std            3.013197            98.904201       7.870898   \n",
       "min            0.000000             0.000000       0.000000   \n",
       "25%            0.000000             0.083333       1.000000   \n",
       "50%            0.000000             0.416667       6.000000   \n",
       "75%            3.000000             0.833333      12.000000   \n",
       "max           15.000000          1000.000000      30.000000   \n",
       "\n",
       "       CASH_ADVANCE_FREQUENCY  CREDIT_LIMIT     PAYMENTS  MINIMUM_PAYMENTS  \\\n",
       "count             3675.000000   3675.000000  3675.000000       3675.000000   \n",
       "mean                 0.099313   3254.616808  1012.370935        332.174438   \n",
       "std                  0.150642   2282.505107  1167.371047        269.657030   \n",
       "min                  0.000000    150.000000     0.056466          0.019163   \n",
       "25%                  0.000000   1500.000000   315.497335        149.297730   \n",
       "50%                  0.000000   2500.000000   597.906134        215.215582   \n",
       "75%                  0.166667   4500.000000  1223.417940        464.462323   \n",
       "max                  1.000000  10000.000000  9724.871142       1196.937133   \n",
       "\n",
       "           TENURE  \n",
       "count  3675.00000  \n",
       "mean     11.43619  \n",
       "std       1.44955  \n",
       "min       6.00000  \n",
       "25%      12.00000  \n",
       "50%      12.00000  \n",
       "75%      12.00000  \n",
       "max      12.00000  "
      ]
     },
     "execution_count": 21,
     "metadata": {},
     "output_type": "execute_result"
    }
   ],
   "source": [
    "df_banco_t.describe()"
   ]
  },
  {
   "cell_type": "code",
   "execution_count": 22,
   "metadata": {},
   "outputs": [
    {
     "data": {
      "text/plain": [
       "(3675, 13)"
      ]
     },
     "execution_count": 22,
     "metadata": {},
     "output_type": "execute_result"
    }
   ],
   "source": [
    "# Cantidad de datos y número de variables\n",
    "df_banco_t.shape"
   ]
  },
  {
   "cell_type": "code",
   "execution_count": 23,
   "metadata": {},
   "outputs": [
    {
     "data": {
      "text/plain": [
       "CUST_ID                    string\n",
       "BALANCE                   float64\n",
       "PURCHASES                 float64\n",
       "BALANCE_FREQUENCY         float64\n",
       "CASH_ADVANCE              float64\n",
       "CASH_ADVANCE_TRX          float64\n",
       "PURCHASES_FREQUENCY       float64\n",
       "PURCHASES_TRX             float64\n",
       "CASH_ADVANCE_FREQUENCY    float64\n",
       "CREDIT_LIMIT              float64\n",
       "PAYMENTS                  float64\n",
       "MINIMUM_PAYMENTS          float64\n",
       "TENURE                    float64\n",
       "dtype: object"
      ]
     },
     "execution_count": 23,
     "metadata": {},
     "output_type": "execute_result"
    }
   ],
   "source": [
    "df_banco_t.dtypes"
   ]
  },
  {
   "cell_type": "code",
   "execution_count": null,
   "metadata": {},
   "outputs": [],
   "source": [
    "# Eliminaremos las variables que consideramos no son útiles para la tarea que queremos resolver, como la variable skin thickness\n",
    "df_banco_m = df_banco_t.drop(['Id', \"Customer\"], axis=1)"
   ]
  },
  {
   "cell_type": "code",
   "execution_count": null,
   "metadata": {},
   "outputs": [],
   "source": [
    "# Podemos ver como quedaron los datos\n",
    "df_banco_m.head()"
   ]
  },
  {
   "cell_type": "markdown",
   "metadata": {},
   "source": [
    "Calculamos la correlacion entre las variables ver que variables seran las mas importantes para predicir nuestra variable de salida. En este caso podemos ver que la glucosa puede ser importante en la prediccion."
   ]
  },
  {
   "cell_type": "code",
   "execution_count": null,
   "metadata": {},
   "outputs": [],
   "source": [
    "# Revisión del total de registros\n",
    "df_banco_m.shape"
   ]
  },
  {
   "cell_type": "markdown",
   "metadata": {},
   "source": [
    "# 3. Construcción del modelo\n",
    "\n",
    "Los algoritmos supervisados implementados en scikit-learn requieren que las variables de entrada estén separadas de la variable objetivo. "
   ]
  },
  {
   "cell_type": "code",
   "execution_count": null,
   "metadata": {},
   "outputs": [],
   "source": [
    "df_results = pd.DataFrame()"
   ]
  },
  {
   "cell_type": "code",
   "execution_count": null,
   "metadata": {},
   "outputs": [],
   "source": [
    "mms = MinMaxScaler()\n",
    "mms.fit(df_banco_m)\n",
    "X = mms.transform(df_banco_m)\n",
    "\n",
    "df_X = pd.DataFrame(data=X, columns=[\"Limit_bal\",\n",
    "                              \"Sex\",\n",
    "                              \"Education\",\n",
    "                              \"Marriage\",\n",
    "                              \"Age\",\n",
    "                              \"Total_Credit_Cards\",\n",
    "                              \"Total_visits_bank\",\n",
    "                              \"Total_visits_online\",\n",
    "                              \"Total_calls_made\"])"
   ]
  },
  {
   "cell_type": "code",
   "execution_count": null,
   "metadata": {},
   "outputs": [],
   "source": [
    "df_X.describe()"
   ]
  },
  {
   "cell_type": "code",
   "execution_count": null,
   "metadata": {},
   "outputs": [],
   "source": [
    "def plot_pca(labels, X):\n",
    "    pca = PCA(n_components=2)\n",
    "    principalComponents = pca.fit_transform(X)\n",
    "    principalDf = pd.DataFrame(data = principalComponents\n",
    "                 , columns = ['principal component 1', 'principal component 2'])\n",
    "    nuevo=pd.DataFrame(labels, columns=['target'])\n",
    "    finalDf = pd.concat([principalDf, nuevo], axis = 1)\n",
    "    dic=nuevo.value_counts().index.tolist()\n",
    "    fig = plt.figure(figsize = (8,8))\n",
    "    ax = fig.add_subplot(1,1,1) \n",
    "    ax.set_xlabel('Principal Component 1', fontsize = 15)\n",
    "    ax.set_ylabel('Principal Component 2', fontsize = 15)\n",
    "    ax.set_title('2 component PCA', fontsize = 20)\n",
    "    targets = dic\n",
    "    colors=nuevo.value_counts().index.tolist()\n",
    "    for target, color in zip(targets,colors):\n",
    "        indicesToKeep = finalDf['target'] == target\n",
    "        ax.scatter(finalDf.loc[indicesToKeep, 'principal component 1']\n",
    "                   , finalDf.loc[indicesToKeep, 'principal component 2']\n",
    "                   , s = 50)\n",
    "    ax.legend(targets)\n",
    "    ax.grid()\n",
    "    \n",
    "def plot_dendrogram(model, **kwargs):\n",
    "    # Create linkage matrix and then plot the dendrogram\n",
    "\n",
    "    # create the counts of samples under each node\n",
    "    counts = np.zeros(model.children_.shape[0])\n",
    "    n_samples = len(model.labels_)\n",
    "    for i, merge in enumerate(model.children_):\n",
    "        current_count = 0\n",
    "        for child_idx in merge:\n",
    "            if child_idx < n_samples:\n",
    "                current_count += 1  # leaf node\n",
    "            else:\n",
    "                current_count += counts[child_idx - n_samples]\n",
    "        counts[i] = current_count\n",
    "\n",
    "    linkage_matrix = np.column_stack([model.children_, model.distances_,\n",
    "                                      counts]).astype(float)\n",
    "\n",
    "    # Plot the corresponding dendrogram\n",
    "    dendrogram(linkage_matrix, **kwargs)"
   ]
  },
  {
   "cell_type": "markdown",
   "metadata": {},
   "source": [
    "## 3.1 K-Means"
   ]
  },
  {
   "cell_type": "code",
   "execution_count": null,
   "metadata": {},
   "outputs": [],
   "source": [
    "Sum_of_squared_distances = []\n",
    "silueta = []\n",
    "K = range(2,20)\n",
    "for k in K:\n",
    "    km = KMeans(n_clusters=k, init='random', n_init=10, tol=1e-04, random_state=5)\n",
    "    km_y = km.fit(X)\n",
    "    Sum_of_squared_distances.append(km_y.inertia_)\n",
    "    silhouette_avg = silhouette_score(X, km_y.labels_)\n",
    "    silueta.append(silhouette_avg)"
   ]
  },
  {
   "cell_type": "code",
   "execution_count": null,
   "metadata": {},
   "outputs": [],
   "source": [
    "plt.plot(K, Sum_of_squared_distances, 'bx-')\n",
    "plt.xlabel('k')\n",
    "plt.ylabel('sd')\n",
    "plt.title('Elbow Method For Optimal k')\n",
    "plt.show()"
   ]
  },
  {
   "cell_type": "code",
   "execution_count": null,
   "metadata": {},
   "outputs": [],
   "source": [
    "plt.plot(K, silueta, 'ro-')\n",
    "plt.xlabel('k')\n",
    "plt.ylabel('silueta')\n",
    "plt.title('Silhouette score')\n",
    "plt.show()"
   ]
  },
  {
   "cell_type": "code",
   "execution_count": null,
   "metadata": {},
   "outputs": [],
   "source": [
    "km = KMeans(n_clusters=5, init='random',\n",
    "        n_init=10, tol=1e-04, random_state=5)\n",
    "km_y = km.fit(X)\n",
    "plot_pca(km_y.labels_,X)"
   ]
  },
  {
   "cell_type": "code",
   "execution_count": null,
   "metadata": {},
   "outputs": [],
   "source": [
    "km = KMeans(n_clusters=2, init='random',\n",
    "        n_init=10, tol=1e-04, random_state=5)\n",
    "km_y = km.fit(X)\n",
    "plot_pca(km_y.labels_,X)"
   ]
  },
  {
   "cell_type": "markdown",
   "metadata": {},
   "source": [
    "## 3.2 Clustering jerarquico"
   ]
  },
  {
   "cell_type": "code",
   "execution_count": null,
   "metadata": {},
   "outputs": [],
   "source": [
    "silueta=[]\n",
    "N = range(2,20)\n",
    "for n in N:\n",
    "    clustering = AgglomerativeClustering(n_clusters=n).fit(X)\n",
    "    silhouette_avg = silhouette_score(X, clustering.labels_)\n",
    "    silueta.append(silhouette_avg)"
   ]
  },
  {
   "cell_type": "code",
   "execution_count": null,
   "metadata": {},
   "outputs": [],
   "source": [
    "plt.plot(N, silueta, 'ro-')\n",
    "plt.xlabel('k')\n",
    "plt.ylabel('silueta')\n",
    "plt.title('Silhouette score')\n",
    "plt.show()"
   ]
  },
  {
   "cell_type": "code",
   "execution_count": null,
   "metadata": {},
   "outputs": [],
   "source": [
    "# setting distance_threshold=0 ensures we compute the full tree.\n",
    "model = AgglomerativeClustering(distance_threshold=0, n_clusters=None)\n",
    "\n",
    "model = model.fit(X)\n",
    "plt.title('Hierarchical Clustering Dendrogram')\n",
    "# plot the top three levels of the dendrogram\n",
    "plot_dendrogram(model, truncate_mode='level', p=1)\n",
    "plt.xlabel(\"Number of points in node (or index of point if no parenthesis).\")\n",
    "plt.show()"
   ]
  },
  {
   "cell_type": "code",
   "execution_count": null,
   "metadata": {},
   "outputs": [],
   "source": [
    "clustering = AgglomerativeClustering(n_clusters=5).fit(X)\n",
    "plot_pca(clustering.labels_, X)"
   ]
  },
  {
   "cell_type": "code",
   "execution_count": null,
   "metadata": {},
   "outputs": [],
   "source": [
    "clustering = AgglomerativeClustering(n_clusters=2).fit(X)\n",
    "plot_pca(clustering.labels_, X)"
   ]
  },
  {
   "cell_type": "markdown",
   "metadata": {},
   "source": [
    "## 3.3 DBScan"
   ]
  },
  {
   "cell_type": "code",
   "execution_count": null,
   "metadata": {},
   "outputs": [],
   "source": [
    "neighbors = NearestNeighbors(n_neighbors=12)\n",
    "neighbors_fit = neighbors.fit(X)\n",
    "distances, indices = neighbors_fit.kneighbors(X)\n",
    "distances = np.sort(distances, axis=0)\n",
    "distances = distances[:,1]"
   ]
  },
  {
   "cell_type": "code",
   "execution_count": null,
   "metadata": {},
   "outputs": [],
   "source": [
    "plt.plot(distances)"
   ]
  },
  {
   "cell_type": "code",
   "execution_count": null,
   "metadata": {},
   "outputs": [],
   "source": [
    "clustering = DBSCAN(eps=0.35,min_samples=12).fit(X)\n",
    "plot_pca(clustering.labels_, X)\n",
    "silhouette_avg = silhouette_score(X, clustering.labels_)"
   ]
  },
  {
   "cell_type": "code",
   "execution_count": null,
   "metadata": {},
   "outputs": [],
   "source": [
    "clustering = DBSCAN(eps=1,min_samples=2).fit(X)\n",
    "silhouette_avg = silhouette_score(X, clustering.labels_)\n",
    "plot_pca(clustering.labels_, X)"
   ]
  },
  {
   "cell_type": "markdown",
   "metadata": {},
   "source": [
    "# 4. Corrección del modelo"
   ]
  },
  {
   "cell_type": "code",
   "execution_count": null,
   "metadata": {},
   "outputs": [],
   "source": [
    "km = KMeans(n_clusters=2, init='random', n_init=10, tol=1e-04, random_state=5)\n",
    "km_y = km.fit(X)"
   ]
  },
  {
   "cell_type": "code",
   "execution_count": null,
   "metadata": {},
   "outputs": [],
   "source": [
    "df_X = pd.DataFrame(data=X, columns=[\"Limit_bal\",\n",
    "                              \"Sex\",\n",
    "                              \"Education\",\n",
    "                              \"Marriage\",\n",
    "                              \"Age\",\n",
    "                              \"Total_Credit_Cards\",\n",
    "                              \"Total_visits_bank\",\n",
    "                              \"Total_visits_online\",\n",
    "                              \"Total_calls_made\"])\n",
    "df_labels = pd.DataFrame(data=km_y.labels_, columns=[\"label\"])"
   ]
  },
  {
   "cell_type": "code",
   "execution_count": null,
   "metadata": {},
   "outputs": [],
   "source": [
    "mejor_modelo = pd.concat([df_X, df_labels], axis = 1)\n",
    "mejor_modelo"
   ]
  },
  {
   "cell_type": "code",
   "execution_count": null,
   "metadata": {},
   "outputs": [],
   "source": [
    "plt.rcParams['figure.figsize'] = [17, 17]\n",
    "mejor_modelo.boxplot(by='label', layout=(5, 2))\n",
    "plt.rcParams['figure.figsize'] = [6.4, 4.8]"
   ]
  },
  {
   "cell_type": "code",
   "execution_count": null,
   "metadata": {},
   "outputs": [],
   "source": [
    "# Eliminaremos las variables que consideramos no son útiles para la tarea que queremos resolver, como la variable skin thickness\n",
    "nuevo_X = mejor_modelo.drop(['Sex', \"label\"], axis=1)"
   ]
  },
  {
   "cell_type": "code",
   "execution_count": null,
   "metadata": {},
   "outputs": [],
   "source": [
    "plot_pca(np.zeros(len(nuevo_X)), nuevo_X)"
   ]
  },
  {
   "cell_type": "code",
   "execution_count": null,
   "metadata": {},
   "outputs": [],
   "source": [
    "plt.rcParams['figure.figsize'] = [5, 5]"
   ]
  },
  {
   "cell_type": "markdown",
   "metadata": {},
   "source": [
    "## 4.1 K-Means"
   ]
  },
  {
   "cell_type": "code",
   "execution_count": null,
   "metadata": {},
   "outputs": [],
   "source": [
    "Sum_of_squared_distances = []\n",
    "silueta = []\n",
    "K = range(2,20)\n",
    "for k in K:\n",
    "    km = KMeans(n_clusters=k, init='random',\n",
    "        n_init=10, tol=1e-04, random_state=5)\n",
    "    km_y = km.fit(nuevo_X)\n",
    "    Sum_of_squared_distances.append(km_y.inertia_)\n",
    "    silhouette_avg = silhouette_score(nuevo_X, km_y.labels_)\n",
    "    silueta.append(silhouette_avg)"
   ]
  },
  {
   "cell_type": "code",
   "execution_count": null,
   "metadata": {},
   "outputs": [],
   "source": [
    "plt.plot(K, Sum_of_squared_distances, 'bx-')\n",
    "plt.xlabel('k')\n",
    "plt.ylabel('sd')\n",
    "plt.title('Elbow Method For Optimal k')\n",
    "plt.show()"
   ]
  },
  {
   "cell_type": "code",
   "execution_count": null,
   "metadata": {},
   "outputs": [],
   "source": [
    "plt.plot(K, silueta, 'ro-')\n",
    "plt.xlabel('k')\n",
    "plt.ylabel('silueta')\n",
    "plt.title('Silhouette score')\n",
    "plt.show()"
   ]
  },
  {
   "cell_type": "code",
   "execution_count": null,
   "metadata": {},
   "outputs": [],
   "source": [
    "km = KMeans(n_clusters=3, init='random',\n",
    "        n_init=10, tol=1e-04, random_state=5)\n",
    "km_y = km.fit(nuevo_X)\n",
    "plot_pca(km_y.labels_,nuevo_X)"
   ]
  },
  {
   "cell_type": "markdown",
   "metadata": {},
   "source": [
    "## 4.2 Clustering jerarquico"
   ]
  },
  {
   "cell_type": "code",
   "execution_count": null,
   "metadata": {},
   "outputs": [],
   "source": [
    "silueta = []\n",
    "N = range(2,20)\n",
    "for n in N:\n",
    "    clustering = AgglomerativeClustering(n_clusters=n).fit(X)\n",
    "    silhouette_avg = silhouette_score(nuevo_X, clustering.labels_)\n",
    "    silueta.append(silhouette_avg)"
   ]
  },
  {
   "cell_type": "code",
   "execution_count": null,
   "metadata": {},
   "outputs": [],
   "source": [
    "plt.plot(N, silueta, 'ro-')\n",
    "plt.xlabel('k')\n",
    "plt.ylabel('silueta')\n",
    "plt.title('Silhouette score')\n",
    "plt.show()"
   ]
  },
  {
   "cell_type": "code",
   "execution_count": null,
   "metadata": {},
   "outputs": [],
   "source": [
    "# setting distance_threshold=0 ensures we compute the full tree.\n",
    "model = AgglomerativeClustering(distance_threshold=0, n_clusters=None)\n",
    "\n",
    "model = model.fit(nuevo_X)\n",
    "plt.title('Hierarchical Clustering Dendrogram')\n",
    "# plot the top three levels of the dendrogram\n",
    "plot_dendrogram(model, truncate_mode='level', p=1)\n",
    "plt.xlabel(\"Number of points in node (or index of point if no parenthesis).\")\n",
    "plt.show()"
   ]
  },
  {
   "cell_type": "code",
   "execution_count": null,
   "metadata": {},
   "outputs": [],
   "source": [
    "clustering = AgglomerativeClustering(n_clusters=4).fit(nuevo_X)\n",
    "plot_pca(clustering.labels_, nuevo_X)"
   ]
  },
  {
   "cell_type": "markdown",
   "metadata": {},
   "source": [
    "## 4.3 DBScan"
   ]
  },
  {
   "cell_type": "code",
   "execution_count": null,
   "metadata": {},
   "outputs": [],
   "source": [
    "neighbors = NearestNeighbors(n_neighbors=12)\n",
    "neighbors_fit = neighbors.fit(nuevo_X)\n",
    "distances, indices = neighbors_fit.kneighbors(nuevo_X)\n",
    "distances = np.sort(distances, axis=0)\n",
    "distances = distances[:,1]"
   ]
  },
  {
   "cell_type": "code",
   "execution_count": null,
   "metadata": {},
   "outputs": [],
   "source": [
    "plt.plot(distances)"
   ]
  },
  {
   "cell_type": "code",
   "execution_count": null,
   "metadata": {},
   "outputs": [],
   "source": [
    "clustering = DBSCAN(eps=0.32,min_samples=10).fit(nuevo_X)\n",
    "plot_pca(clustering.labels_, nuevo_X)\n",
    "silhouette_avg = silhouette_score(nuevo_X, clustering.labels_)"
   ]
  },
  {
   "cell_type": "markdown",
   "metadata": {},
   "source": [
    "# 5. Modelo final"
   ]
  },
  {
   "cell_type": "code",
   "execution_count": null,
   "metadata": {},
   "outputs": [],
   "source": [
    "clustering = KMeans(n_clusters=3, init='random', n_init=10, tol=1e-04, random_state=5).fit(nuevo_X)"
   ]
  },
  {
   "cell_type": "code",
   "execution_count": null,
   "metadata": {},
   "outputs": [],
   "source": [
    "df_final = pd.DataFrame(data=nuevo_X, columns=[\"Limit_bal\",\n",
    "                                          \"Education\",\n",
    "                                          \"Marriage\",\n",
    "                                          \"Age\",\n",
    "                                          \"Total_Credit_Cards\",\n",
    "                                          \"Total_visits_bank\",\n",
    "                                          \"Total_visits_online\",\n",
    "                                          \"Total_calls_made\"])\n",
    "df_labels = pd.DataFrame(data=km_y.labels_, columns=[\"label\"])"
   ]
  },
  {
   "cell_type": "code",
   "execution_count": null,
   "metadata": {},
   "outputs": [],
   "source": [
    "mejor_modelo = pd.concat([df_final, df_labels], axis = 1)\n",
    "mejor_modelo"
   ]
  },
  {
   "cell_type": "code",
   "execution_count": null,
   "metadata": {},
   "outputs": [],
   "source": [
    "plt.rcParams['figure.figsize'] = [17, 17]\n",
    "mejor_modelo.boxplot(by='label', layout=(4, 2))\n",
    "plt.rcParams['figure.figsize'] = [6.4, 4.8]"
   ]
  },
  {
   "cell_type": "markdown",
   "metadata": {},
   "source": [
    "# 6. Final"
   ]
  }
 ],
 "metadata": {
  "kernelspec": {
   "display_name": "Python 3",
   "language": "python",
   "name": "python3"
  },
  "language_info": {
   "codemirror_mode": {
    "name": "ipython",
    "version": 3
   },
   "file_extension": ".py",
   "mimetype": "text/x-python",
   "name": "python",
   "nbconvert_exporter": "python",
   "pygments_lexer": "ipython3",
   "version": "3.8.8"
  }
 },
 "nbformat": 4,
 "nbformat_minor": 4
}
